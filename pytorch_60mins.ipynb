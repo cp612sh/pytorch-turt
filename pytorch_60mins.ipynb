{
  "nbformat": 4,
  "nbformat_minor": 0,
  "metadata": {
    "colab": {
      "name": "pytorch_60mins.ipynb",
      "provenance": [],
      "private_outputs": true,
      "collapsed_sections": [],
      "include_colab_link": true
    },
    "kernelspec": {
      "name": "python3",
      "display_name": "Python 3"
    },
    "accelerator": "GPU"
  },
  "cells": [
    {
      "cell_type": "markdown",
      "metadata": {
        "id": "view-in-github",
        "colab_type": "text"
      },
      "source": [
        "<a href=\"https://colab.research.google.com/github/cp612sh/pytorch-turt/blob/master/pytorch_60mins.ipynb\" target=\"_parent\"><img src=\"https://colab.research.google.com/assets/colab-badge.svg\" alt=\"Open In Colab\"/></a>"
      ]
    },
    {
      "cell_type": "markdown",
      "metadata": {
        "id": "7Upgk1__HnQe",
        "colab_type": "text"
      },
      "source": [
        "pytorch 1.3.0 \n",
        "\n",
        "开始"
      ]
    },
    {
      "cell_type": "markdown",
      "metadata": {
        "id": "VOlYzQjM6u91",
        "colab_type": "text"
      },
      "source": [
        "##Tensor"
      ]
    },
    {
      "cell_type": "code",
      "metadata": {
        "id": "iyoxHBfYGFvJ",
        "colab_type": "code",
        "colab": {}
      },
      "source": [
        "import torch"
      ],
      "execution_count": 0,
      "outputs": []
    },
    {
      "cell_type": "code",
      "metadata": {
        "id": "H8UG7xIcGLNN",
        "colab_type": "code",
        "colab": {}
      },
      "source": [
        "x = torch.empty(5,3) # 未初始化\n",
        "print(x)"
      ],
      "execution_count": 0,
      "outputs": []
    },
    {
      "cell_type": "code",
      "metadata": {
        "id": "urKLs4v2GYSi",
        "colab_type": "code",
        "colab": {}
      },
      "source": [
        "rx = torch.rand(5,3) # 随机\n",
        "print(rx)"
      ],
      "execution_count": 0,
      "outputs": []
    },
    {
      "cell_type": "code",
      "metadata": {
        "id": "8dROMXsD4ehR",
        "colab_type": "code",
        "colab": {}
      },
      "source": [
        "zx = torch.zeros(5,3,dtype=torch.long) # 类型为long的全零\n",
        "print(zx)"
      ],
      "execution_count": 0,
      "outputs": []
    },
    {
      "cell_type": "code",
      "metadata": {
        "id": "JOtXwoEi48KC",
        "colab_type": "code",
        "colab": {}
      },
      "source": [
        "dx = torch.tensor([5.5,3]) # 直接从数据构建Tensor\n",
        "print(dx)"
      ],
      "execution_count": 0,
      "outputs": []
    },
    {
      "cell_type": "code",
      "metadata": {
        "id": "gWBJAjLp5iMI",
        "colab_type": "code",
        "colab": {}
      },
      "source": [
        "# 从已有的Tensor中创建Tensor\n",
        "# new_* 方法\n",
        "x = x.new_ones(5,3, dtype=torch.double)\n",
        "print(x)\n",
        "\n",
        "# rand like\n",
        "x = torch.rand_like(x, dtype=torch.float)\n",
        "print(x)"
      ],
      "execution_count": 0,
      "outputs": []
    },
    {
      "cell_type": "code",
      "metadata": {
        "id": "4bGpEVqR6Y7u",
        "colab_type": "code",
        "colab": {}
      },
      "source": [
        "print(x.size()) "
      ],
      "execution_count": 0,
      "outputs": []
    },
    {
      "cell_type": "markdown",
      "metadata": {
        "id": "JTCD1ggw7CWq",
        "colab_type": "text"
      },
      "source": [
        "## Operations"
      ]
    },
    {
      "cell_type": "code",
      "metadata": {
        "id": "OxFvt2cX6i5M",
        "colab_type": "code",
        "colab": {}
      },
      "source": [
        "y = torch.rand(5,3)\n",
        "print(x + y)"
      ],
      "execution_count": 0,
      "outputs": []
    },
    {
      "cell_type": "code",
      "metadata": {
        "id": "sjHITJgZ7SH3",
        "colab_type": "code",
        "colab": {}
      },
      "source": [
        "print(torch.add(x,y)) # another add"
      ],
      "execution_count": 0,
      "outputs": []
    },
    {
      "cell_type": "code",
      "metadata": {
        "id": "qwEksytY7iUs",
        "colab_type": "code",
        "colab": {}
      },
      "source": [
        "result = torch.empty(5,3)\n",
        "torch.add(x,y,out=result) \n",
        "print(result)"
      ],
      "execution_count": 0,
      "outputs": []
    },
    {
      "cell_type": "code",
      "metadata": {
        "id": "msKbTSg-7-df",
        "colab_type": "code",
        "colab": {}
      },
      "source": [
        "# add x to y\n",
        "y.add_(x)\n",
        "print(y)"
      ],
      "execution_count": 0,
      "outputs": []
    },
    {
      "cell_type": "code",
      "metadata": {
        "id": "WuW4nUuy83wf",
        "colab_type": "code",
        "colab": {}
      },
      "source": [
        "print(x[:,1])"
      ],
      "execution_count": 0,
      "outputs": []
    },
    {
      "cell_type": "code",
      "metadata": {
        "id": "5ij4fo7H9IoN",
        "colab_type": "code",
        "colab": {}
      },
      "source": [
        "# resizing with torch.view\n",
        "x = torch.randn(4,4)\n",
        "y = x.view(16)\n",
        "z = x.view(-1, 8) # -1 is inferred from other denmentions\n",
        "\n",
        "print(x.size(), y.size(), z.size())"
      ],
      "execution_count": 0,
      "outputs": []
    },
    {
      "cell_type": "code",
      "metadata": {
        "id": "kB1TMHjy9qVR",
        "colab_type": "code",
        "colab": {}
      },
      "source": [
        "x = torch.randn(1)\n",
        "print(x)\n",
        "print(x.item())"
      ],
      "execution_count": 0,
      "outputs": []
    },
    {
      "cell_type": "code",
      "metadata": {
        "id": "Vx7INrFM-LZm",
        "colab_type": "code",
        "colab": {}
      },
      "source": [
        "a = torch.ones([5])\n",
        "print(a)"
      ],
      "execution_count": 0,
      "outputs": []
    },
    {
      "cell_type": "code",
      "metadata": {
        "id": "KJ5d8wrd-shQ",
        "colab_type": "code",
        "colab": {}
      },
      "source": [
        "b = a.numpy()\n",
        "print(b)"
      ],
      "execution_count": 0,
      "outputs": []
    },
    {
      "cell_type": "code",
      "metadata": {
        "id": "tci6cgEe-zNP",
        "colab_type": "code",
        "colab": {}
      },
      "source": [
        "a.add_(1)\n",
        "print(a)\n",
        "print(b)"
      ],
      "execution_count": 0,
      "outputs": []
    },
    {
      "cell_type": "code",
      "metadata": {
        "id": "EClupsh3-_j-",
        "colab_type": "code",
        "colab": {}
      },
      "source": [
        "import numpy as np\n",
        "a = np.ones(5)\n",
        "b = torch.from_numpy(a)\n",
        "np.add(a, 1, out=a)\n",
        "print(a)\n",
        "print(b)\n"
      ],
      "execution_count": 0,
      "outputs": []
    },
    {
      "cell_type": "code",
      "metadata": {
        "id": "1lgvgeQ6_ySB",
        "colab_type": "code",
        "colab": {}
      },
      "source": [
        "if torch.cuda.is_available():\n",
        "  device = torch.device(\"cuda\") # a CUDA device object\n",
        "  y = torch.ones_like(x, device=device) # 直接在CUDA设备上创建Tensor\n",
        "  x = x.to(device) # 也可以用 cuda 字符串\n",
        "  z = x + y\n",
        "  print(z)\n",
        "  print(z.to(\"cpu\", torch.double))"
      ],
      "execution_count": 0,
      "outputs": []
    },
    {
      "cell_type": "code",
      "metadata": {
        "id": "7d0x7QrHA2Ye",
        "colab_type": "code",
        "colab": {}
      },
      "source": [
        ""
      ],
      "execution_count": 0,
      "outputs": []
    }
  ]
}